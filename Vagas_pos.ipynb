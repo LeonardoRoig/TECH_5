{
  "nbformat": 4,
  "nbformat_minor": 0,
  "metadata": {
    "colab": {
      "provenance": [],
      "authorship_tag": "ABX9TyO9wpLgeJJ+yLEb4E6lIRyM",
      "include_colab_link": true
    },
    "kernelspec": {
      "name": "python3",
      "display_name": "Python 3"
    },
    "language_info": {
      "name": "python"
    }
  },
  "cells": [
    {
      "cell_type": "markdown",
      "metadata": {
        "id": "view-in-github",
        "colab_type": "text"
      },
      "source": [
        "<a href=\"https://colab.research.google.com/github/LeonardoRoig/TECH_5/blob/main/Vagas_pos.ipynb\" target=\"_parent\"><img src=\"https://colab.research.google.com/assets/colab-badge.svg\" alt=\"Open In Colab\"/></a>"
      ]
    },
    {
      "cell_type": "code",
      "source": [
        "import pandas as pd\n",
        "import numpy as np\n",
        "import ast, json, re\n",
        "import warnings\n",
        "warnings.filterwarnings('ignore')\n",
        "\n",
        "# --- Nova célula ---\n",
        "\n",
        "df_raw = pd.read_json(\"vagas.json\")\n",
        "\n",
        "# --- Nova célula ---\n",
        "\n",
        "# 1) Garantir que cada célula seja um dict (pode vir como string)\n",
        "def to_dict(x):\n",
        "    if isinstance(x, dict):\n",
        "        return x\n",
        "    if pd.isna(x):\n",
        "        return {}\n",
        "    s = str(x)\n",
        "    # tenta Python-literal\n",
        "    try:\n",
        "        return ast.literal_eval(s)\n",
        "    except Exception:\n",
        "        pass\n",
        "    # tenta JSON\n",
        "    try:\n",
        "        return json.loads(s)\n",
        "    except Exception:\n",
        "        return {}\n",
        "\n",
        "df_raw = df_raw.applymap(to_dict)\n",
        "\n",
        "# --- Nova célula ---\n",
        "\n",
        "# 2) Transpor: cada linha vira um job_id\n",
        "df_t = df.T  # index = job_id; colunas = ['informacoes_basicas','perfil_vaga','beneficios']\n",
        "df_t.index.name = \"job_id\"\n",
        "\n",
        "# 3) Combinar os 3 dicionários por linha com prefixos para evitar colisão de nomes\n",
        "def merge_sections(row):\n",
        "    base = {f\"inf_{k}\": v for k, v in row.get(\"informacoes_basicas\", {}).items()}\n",
        "    perf = {f\"perfil_{k}\": v for k, v in row.get(\"perfil_vaga\", {}).items()}\n",
        "    benef = {f\"benef_{k}\": v for k, v in row.get(\"beneficios\", {}).items()}\n",
        "    return {**base, **perf, **benef}\n",
        "\n",
        "# --- Nova célula ---\n",
        "\n",
        "records = df_t.apply(merge_sections, axis=1)\n",
        "df_flat = pd.DataFrame(list(records), index=df_t.index).reset_index()\n",
        "\n",
        "# 4) Limpeza básica de colunas\n",
        "df_flat.columns = (\n",
        "    pd.Series(df_flat.columns)\n",
        "    .astype(str)\n",
        "    .str.strip()\n",
        "    .str.lower()\n",
        "    .str.normalize('NFKD')  # remove acentos\n",
        "    .str.encode('ascii', errors='ignore')\n",
        "    .str.decode('utf-8')\n",
        "    .str.replace(r'\\s+', '_', regex=True)\n",
        ")\n",
        "\n",
        "# --- Nova célula ---\n",
        "\n",
        "# 5) Tipagem: datas (dia primeiro), valores monetários, inteiros\n",
        "# Datas: qualquer coluna que contenha 'data'\n",
        "for c in [c for c in df_flat.columns if 'data' in c]:\n",
        "    df_flat[c] = pd.to_datetime(df_flat[c], dayfirst=True, errors='coerce')\n",
        "\n",
        "# Função para converter dinheiro/bruto em float\n",
        "money_like_cols = [c for c in df_flat.columns if any(tok in c for tok in ['valor', ..."
      ],
      "metadata": {
        "id": "GrRcXsyyJSwx"
      },
      "execution_count": null,
      "outputs": []
    }
  ]
}