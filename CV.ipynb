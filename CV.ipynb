{
  "nbformat": 4,
  "nbformat_minor": 0,
  "metadata": {
    "colab": {
      "provenance": []
    },
    "kernelspec": {
      "name": "python3",
      "display_name": "Python 3"
    },
    "language_info": {
      "name": "python"
    }
  },
  "cells": [
    {
      "cell_type": "code",
      "metadata": {
        "id": "bb0dd1d4"
      },
      "source": [
        "# df_expandido['cv_pt_formatado'] = df_expandido['cv_pt'].str.replace(r'\\\\n', '\\n', regex=True)\n",
        "# display(df_expandido[['cv_pt', 'cv_pt_formatado']].head(1))"
      ],
      "execution_count": null,
      "outputs": []
    },
    {
      "cell_type": "code",
      "metadata": {
        "id": "bd9131b7"
      },
      "source": [
        "import json\n",
        "import pandas as pd\n",
        "import re\n",
        "\n",
        "caminho_arquivo = '/content/applicants.json'\n",
        "dados = []\n",
        "\n",
        "try:\n",
        "    with open(caminho_arquivo, 'r') as arquivo:\n",
        "        dados = json.load(arquivo)\n",
        "\n",
        "except json.JSONDecodeError as e:\n",
        "    print(f\"Erro ao decodificar o arquivo JSON completo: {e}\")\n",
        "\n",
        "\n",
        "    dados = []\n",
        "\n",
        "\n",
        "    with open(caminho_arquivo, 'r') as arquivo:\n",
        "        for i, linha in enumerate(arquivo):\n",
        "            try:\n",
        "\n",
        "                dados.append(json.loads(linha))\n",
        "            except json.JSONDecodeError:\n",
        "\n",
        "                pass\n",
        "\n",
        "finally:\n",
        "    print(f\"Total de objetos lidos com sucesso e adicionados à lista: {len(dados)}\")\n",
        "\n",
        "\n",
        "df = pd.DataFrame(dados)\n",
        "\n",
        "\n",
        "df_pivotado = df.T\n",
        "\n",
        "#TROCAR AS COLUNAS DO JSON PARA O PIVOT\n",
        "colunas_para_expandir = ['infos_basicas', 'informacoes_pessoais', 'informacoes_profissionais', 'formacao_e_idiomas', 'cargo_atual']\n",
        "\n",
        "df_expandido = df_pivotado.copy()\n",
        "\n",
        "for coluna in colunas_para_expandir:\n",
        "    if coluna in df_expandido.columns:\n",
        "\n",
        "        coluna_expandida_df = df_expandido[coluna].apply(pd.Series)\n",
        "\n",
        "        df_expandido = pd.concat([df_expandido, coluna_expandida_df], axis=1)\n",
        "\n",
        "def formatar_cv(texto):\n",
        "    if isinstance(texto, str):\n",
        "        return texto.replace('\\n', ' ')\n",
        "    else:\n",
        "        return texto\n",
        "\n",
        "\n",
        "if 'cv_pt' in df_expandido.columns:\n",
        "    df_expandido['cv_pt_formatado'] = df_expandido['cv_pt'].apply(formatar_cv)\n",
        "\n",
        "\n",
        "\n",
        "\n",
        "\n",
        "pd.set_option('display.max_colwidth', None)\n",
        "pd.set_option('display.max_columns', None)\n",
        "\n",
        "\n",
        "\n",
        "display(df_expandido.head(1))\n",
        "\n"
      ],
      "execution_count": null,
      "outputs": []
    }
  ]
}